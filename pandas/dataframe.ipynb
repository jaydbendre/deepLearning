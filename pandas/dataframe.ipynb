{
 "cells": [
  {
   "cell_type": "code",
   "execution_count": 1,
   "metadata": {},
   "outputs": [],
   "source": [
    "import pandas as pd\n",
    "import numpy as np"
   ]
  },
  {
   "cell_type": "code",
   "execution_count": 2,
   "metadata": {},
   "outputs": [
    {
     "output_type": "execute_result",
     "data": {
      "text/plain": "    0   1   2   3   4\nA  52  86  20  41  84\nB  24  62  67  39  88\nC  41   7  53  68  66\nD  46  17  46  51  86\nE  50  44  83  11  15",
      "text/html": "<div>\n<style scoped>\n    .dataframe tbody tr th:only-of-type {\n        vertical-align: middle;\n    }\n\n    .dataframe tbody tr th {\n        vertical-align: top;\n    }\n\n    .dataframe thead th {\n        text-align: right;\n    }\n</style>\n<table border=\"1\" class=\"dataframe\">\n  <thead>\n    <tr style=\"text-align: right;\">\n      <th></th>\n      <th>0</th>\n      <th>1</th>\n      <th>2</th>\n      <th>3</th>\n      <th>4</th>\n    </tr>\n  </thead>\n  <tbody>\n    <tr>\n      <td>A</td>\n      <td>52</td>\n      <td>86</td>\n      <td>20</td>\n      <td>41</td>\n      <td>84</td>\n    </tr>\n    <tr>\n      <td>B</td>\n      <td>24</td>\n      <td>62</td>\n      <td>67</td>\n      <td>39</td>\n      <td>88</td>\n    </tr>\n    <tr>\n      <td>C</td>\n      <td>41</td>\n      <td>7</td>\n      <td>53</td>\n      <td>68</td>\n      <td>66</td>\n    </tr>\n    <tr>\n      <td>D</td>\n      <td>46</td>\n      <td>17</td>\n      <td>46</td>\n      <td>51</td>\n      <td>86</td>\n    </tr>\n    <tr>\n      <td>E</td>\n      <td>50</td>\n      <td>44</td>\n      <td>83</td>\n      <td>11</td>\n      <td>15</td>\n    </tr>\n  </tbody>\n</table>\n</div>"
     },
     "metadata": {},
     "execution_count": 2
    }
   ],
   "source": [
    "df = pd.DataFrame(np.random.randint(0,100,size = (5,5)),[\"A\",\"B\",\"C\",\"D\",\"E\"])\n",
    "df"
   ]
  },
  {
   "cell_type": "code",
   "execution_count": 7,
   "metadata": {},
   "outputs": [
    {
     "output_type": "execute_result",
     "data": {
      "text/plain": "    0   1   2   3   4\nA  52  86  20  41  84\nB  24  62  67  39  88\nC  41   7  53  68  66",
      "text/html": "<div>\n<style scoped>\n    .dataframe tbody tr th:only-of-type {\n        vertical-align: middle;\n    }\n\n    .dataframe tbody tr th {\n        vertical-align: top;\n    }\n\n    .dataframe thead th {\n        text-align: right;\n    }\n</style>\n<table border=\"1\" class=\"dataframe\">\n  <thead>\n    <tr style=\"text-align: right;\">\n      <th></th>\n      <th>0</th>\n      <th>1</th>\n      <th>2</th>\n      <th>3</th>\n      <th>4</th>\n    </tr>\n  </thead>\n  <tbody>\n    <tr>\n      <td>A</td>\n      <td>52</td>\n      <td>86</td>\n      <td>20</td>\n      <td>41</td>\n      <td>84</td>\n    </tr>\n    <tr>\n      <td>B</td>\n      <td>24</td>\n      <td>62</td>\n      <td>67</td>\n      <td>39</td>\n      <td>88</td>\n    </tr>\n    <tr>\n      <td>C</td>\n      <td>41</td>\n      <td>7</td>\n      <td>53</td>\n      <td>68</td>\n      <td>66</td>\n    </tr>\n  </tbody>\n</table>\n</div>"
     },
     "metadata": {},
     "execution_count": 7
    }
   ],
   "source": [
    "df.loc[\"A\":\"C\"]"
   ]
  },
  {
   "cell_type": "code",
   "execution_count": 9,
   "metadata": {},
   "outputs": [
    {
     "output_type": "execute_result",
     "data": {
      "text/plain": "      0     1     2     3     4\nA  52.0  86.0   NaN   NaN  84.0\nB   NaN  62.0  67.0   NaN  88.0\nC   NaN   NaN  53.0  68.0  66.0\nD   NaN   NaN   NaN  51.0  86.0\nE   NaN   NaN  83.0   NaN   NaN",
      "text/html": "<div>\n<style scoped>\n    .dataframe tbody tr th:only-of-type {\n        vertical-align: middle;\n    }\n\n    .dataframe tbody tr th {\n        vertical-align: top;\n    }\n\n    .dataframe thead th {\n        text-align: right;\n    }\n</style>\n<table border=\"1\" class=\"dataframe\">\n  <thead>\n    <tr style=\"text-align: right;\">\n      <th></th>\n      <th>0</th>\n      <th>1</th>\n      <th>2</th>\n      <th>3</th>\n      <th>4</th>\n    </tr>\n  </thead>\n  <tbody>\n    <tr>\n      <td>A</td>\n      <td>52.0</td>\n      <td>86.0</td>\n      <td>NaN</td>\n      <td>NaN</td>\n      <td>84.0</td>\n    </tr>\n    <tr>\n      <td>B</td>\n      <td>NaN</td>\n      <td>62.0</td>\n      <td>67.0</td>\n      <td>NaN</td>\n      <td>88.0</td>\n    </tr>\n    <tr>\n      <td>C</td>\n      <td>NaN</td>\n      <td>NaN</td>\n      <td>53.0</td>\n      <td>68.0</td>\n      <td>66.0</td>\n    </tr>\n    <tr>\n      <td>D</td>\n      <td>NaN</td>\n      <td>NaN</td>\n      <td>NaN</td>\n      <td>51.0</td>\n      <td>86.0</td>\n    </tr>\n    <tr>\n      <td>E</td>\n      <td>NaN</td>\n      <td>NaN</td>\n      <td>83.0</td>\n      <td>NaN</td>\n      <td>NaN</td>\n    </tr>\n  </tbody>\n</table>\n</div>"
     },
     "metadata": {},
     "execution_count": 9
    }
   ],
   "source": [
    "df[df>50]"
   ]
  },
  {
   "cell_type": "code",
   "execution_count": 11,
   "metadata": {},
   "outputs": [
    {
     "output_type": "execute_result",
     "data": {
      "text/plain": "A     True\nB    False\nC    False\nD    False\nE    False\nName: 0, dtype: bool"
     },
     "metadata": {},
     "execution_count": 11
    }
   ],
   "source": [
    "df[0]>50"
   ]
  },
  {
   "cell_type": "code",
   "execution_count": 12,
   "metadata": {},
   "outputs": [],
   "source": [
    "df = df.reset_index()"
   ]
  },
  {
   "cell_type": "code",
   "execution_count": 13,
   "metadata": {},
   "outputs": [
    {
     "output_type": "execute_result",
     "data": {
      "text/plain": "  index   0   1   2   3   4\n0     A  52  86  20  41  84\n1     B  24  62  67  39  88\n2     C  41   7  53  68  66\n3     D  46  17  46  51  86\n4     E  50  44  83  11  15",
      "text/html": "<div>\n<style scoped>\n    .dataframe tbody tr th:only-of-type {\n        vertical-align: middle;\n    }\n\n    .dataframe tbody tr th {\n        vertical-align: top;\n    }\n\n    .dataframe thead th {\n        text-align: right;\n    }\n</style>\n<table border=\"1\" class=\"dataframe\">\n  <thead>\n    <tr style=\"text-align: right;\">\n      <th></th>\n      <th>index</th>\n      <th>0</th>\n      <th>1</th>\n      <th>2</th>\n      <th>3</th>\n      <th>4</th>\n    </tr>\n  </thead>\n  <tbody>\n    <tr>\n      <td>0</td>\n      <td>A</td>\n      <td>52</td>\n      <td>86</td>\n      <td>20</td>\n      <td>41</td>\n      <td>84</td>\n    </tr>\n    <tr>\n      <td>1</td>\n      <td>B</td>\n      <td>24</td>\n      <td>62</td>\n      <td>67</td>\n      <td>39</td>\n      <td>88</td>\n    </tr>\n    <tr>\n      <td>2</td>\n      <td>C</td>\n      <td>41</td>\n      <td>7</td>\n      <td>53</td>\n      <td>68</td>\n      <td>66</td>\n    </tr>\n    <tr>\n      <td>3</td>\n      <td>D</td>\n      <td>46</td>\n      <td>17</td>\n      <td>46</td>\n      <td>51</td>\n      <td>86</td>\n    </tr>\n    <tr>\n      <td>4</td>\n      <td>E</td>\n      <td>50</td>\n      <td>44</td>\n      <td>83</td>\n      <td>11</td>\n      <td>15</td>\n    </tr>\n  </tbody>\n</table>\n</div>"
     },
     "metadata": {},
     "execution_count": 13
    }
   ],
   "source": [
    "df"
   ]
  },
  {
   "cell_type": "code",
   "execution_count": null,
   "metadata": {},
   "outputs": [],
   "source": []
  }
 ],
 "metadata": {
  "language_info": {
   "codemirror_mode": {
    "name": "ipython",
    "version": 3
   },
   "file_extension": ".py",
   "mimetype": "text/x-python",
   "name": "python",
   "nbconvert_exporter": "python",
   "pygments_lexer": "ipython3",
   "version": "3.7.4-final"
  },
  "orig_nbformat": 2,
  "kernelspec": {
   "name": "python3",
   "display_name": "Python 3"
  }
 },
 "nbformat": 4,
 "nbformat_minor": 2
}