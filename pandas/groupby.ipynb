{
 "cells": [
  {
   "cell_type": "code",
   "execution_count": 1,
   "metadata": {},
   "outputs": [],
   "source": [
    "import pandas as pd"
   ]
  },
  {
   "cell_type": "code",
   "execution_count": 2,
   "metadata": {},
   "outputs": [],
   "source": [
    "df = pd.read_csv(\"Universities.csv\")"
   ]
  },
  {
   "cell_type": "code",
   "execution_count": 3,
   "metadata": {},
   "outputs": [
    {
     "output_type": "execute_result",
     "data": {
      "text/plain": "                                 Sector  \\\n0            Private for-profit, 2-year   \n1  Private for-profit, less-than 2-year   \n2  Private for-profit, less-than 2-year   \n3  Private for-profit, less-than 2-year   \n4               Public, 4-year or above   \n\n                              University  Year  Completions Geography  \n0       Pima Medical Institute-Las Vegas  2016          591    Nevada  \n1       Healthcare Preparatory Institute  2016           28    Nevada  \n2              Milan Institute-Las Vegas  2016          408    Nevada  \n3  Utah College of Massage Therapy-Vegas  2016          240    Nevada  \n4                 Western Nevada College  2016          960    Nevada  ",
      "text/html": "<div>\n<style scoped>\n    .dataframe tbody tr th:only-of-type {\n        vertical-align: middle;\n    }\n\n    .dataframe tbody tr th {\n        vertical-align: top;\n    }\n\n    .dataframe thead th {\n        text-align: right;\n    }\n</style>\n<table border=\"1\" class=\"dataframe\">\n  <thead>\n    <tr style=\"text-align: right;\">\n      <th></th>\n      <th>Sector</th>\n      <th>University</th>\n      <th>Year</th>\n      <th>Completions</th>\n      <th>Geography</th>\n    </tr>\n  </thead>\n  <tbody>\n    <tr>\n      <td>0</td>\n      <td>Private for-profit, 2-year</td>\n      <td>Pima Medical Institute-Las Vegas</td>\n      <td>2016</td>\n      <td>591</td>\n      <td>Nevada</td>\n    </tr>\n    <tr>\n      <td>1</td>\n      <td>Private for-profit, less-than 2-year</td>\n      <td>Healthcare Preparatory Institute</td>\n      <td>2016</td>\n      <td>28</td>\n      <td>Nevada</td>\n    </tr>\n    <tr>\n      <td>2</td>\n      <td>Private for-profit, less-than 2-year</td>\n      <td>Milan Institute-Las Vegas</td>\n      <td>2016</td>\n      <td>408</td>\n      <td>Nevada</td>\n    </tr>\n    <tr>\n      <td>3</td>\n      <td>Private for-profit, less-than 2-year</td>\n      <td>Utah College of Massage Therapy-Vegas</td>\n      <td>2016</td>\n      <td>240</td>\n      <td>Nevada</td>\n    </tr>\n    <tr>\n      <td>4</td>\n      <td>Public, 4-year or above</td>\n      <td>Western Nevada College</td>\n      <td>2016</td>\n      <td>960</td>\n      <td>Nevada</td>\n    </tr>\n  </tbody>\n</table>\n</div>"
     },
     "metadata": {},
     "execution_count": 3
    }
   ],
   "source": [
    "df.head()"
   ]
  },
  {
   "cell_type": "code",
   "execution_count": 7,
   "metadata": {},
   "outputs": [
    {
     "output_type": "execute_result",
     "data": {
      "text/plain": "                                              Completions\nYear Sector                                              \n2012 Private for-profit, 2-year                204.800000\n     Private for-profit, 4-year or above       158.000000\n     Private for-profit, less-than 2-year      189.571429\n     Private not-for-profit, 2-year            332.500000\n     Private not-for-profit, 4-year or above   353.000000\n     Public, 2-year                           1170.000000\n     Public, 4-year or above                  2068.000000\n2013 Private for-profit, 2-year                190.812500\n     Private for-profit, 4-year or above       155.000000\n     Private for-profit, less-than 2-year      183.000000\n     Private not-for-profit, 2-year            235.500000\n     Private not-for-profit, 4-year or above   338.666667\n     Public, 2-year                           1633.000000\n     Public, 4-year or above                  2136.166667\n2014 Private for-profit, 2-year                184.812500\n     Private for-profit, 4-year or above       251.000000\n     Private for-profit, less-than 2-year      166.000000\n     Private not-for-profit, 2-year            224.500000\n     Private not-for-profit, 4-year or above   347.333333\n     Public, 2-year                           2286.000000\n     Public, 4-year or above                  2527.000000\n2015 Private for-profit, 2-year                205.000000\n     Private for-profit, 4-year or above       163.250000\n     Private for-profit, less-than 2-year      203.625000\n     Private not-for-profit, 2-year            212.500000\n     Private not-for-profit, 4-year or above   409.333333\n     Public, 2-year                           2355.000000\n     Public, 4-year or above                  2676.000000\n2016 Private for-profit, 2-year                205.375000\n     Private for-profit, 4-year or above       124.666667\n     Private for-profit, less-than 2-year      194.000000\n     Private not-for-profit, 2-year            161.000000\n     Private not-for-profit, 4-year or above   302.000000\n     Public, 2-year                           2431.000000\n     Public, 4-year or above                  2779.500000",
      "text/html": "<div>\n<style scoped>\n    .dataframe tbody tr th:only-of-type {\n        vertical-align: middle;\n    }\n\n    .dataframe tbody tr th {\n        vertical-align: top;\n    }\n\n    .dataframe thead th {\n        text-align: right;\n    }\n</style>\n<table border=\"1\" class=\"dataframe\">\n  <thead>\n    <tr style=\"text-align: right;\">\n      <th></th>\n      <th></th>\n      <th>Completions</th>\n    </tr>\n    <tr>\n      <th>Year</th>\n      <th>Sector</th>\n      <th></th>\n    </tr>\n  </thead>\n  <tbody>\n    <tr>\n      <td rowspan=\"7\" valign=\"top\">2012</td>\n      <td>Private for-profit, 2-year</td>\n      <td>204.800000</td>\n    </tr>\n    <tr>\n      <td>Private for-profit, 4-year or above</td>\n      <td>158.000000</td>\n    </tr>\n    <tr>\n      <td>Private for-profit, less-than 2-year</td>\n      <td>189.571429</td>\n    </tr>\n    <tr>\n      <td>Private not-for-profit, 2-year</td>\n      <td>332.500000</td>\n    </tr>\n    <tr>\n      <td>Private not-for-profit, 4-year or above</td>\n      <td>353.000000</td>\n    </tr>\n    <tr>\n      <td>Public, 2-year</td>\n      <td>1170.000000</td>\n    </tr>\n    <tr>\n      <td>Public, 4-year or above</td>\n      <td>2068.000000</td>\n    </tr>\n    <tr>\n      <td rowspan=\"7\" valign=\"top\">2013</td>\n      <td>Private for-profit, 2-year</td>\n      <td>190.812500</td>\n    </tr>\n    <tr>\n      <td>Private for-profit, 4-year or above</td>\n      <td>155.000000</td>\n    </tr>\n    <tr>\n      <td>Private for-profit, less-than 2-year</td>\n      <td>183.000000</td>\n    </tr>\n    <tr>\n      <td>Private not-for-profit, 2-year</td>\n      <td>235.500000</td>\n    </tr>\n    <tr>\n      <td>Private not-for-profit, 4-year or above</td>\n      <td>338.666667</td>\n    </tr>\n    <tr>\n      <td>Public, 2-year</td>\n      <td>1633.000000</td>\n    </tr>\n    <tr>\n      <td>Public, 4-year or above</td>\n      <td>2136.166667</td>\n    </tr>\n    <tr>\n      <td rowspan=\"7\" valign=\"top\">2014</td>\n      <td>Private for-profit, 2-year</td>\n      <td>184.812500</td>\n    </tr>\n    <tr>\n      <td>Private for-profit, 4-year or above</td>\n      <td>251.000000</td>\n    </tr>\n    <tr>\n      <td>Private for-profit, less-than 2-year</td>\n      <td>166.000000</td>\n    </tr>\n    <tr>\n      <td>Private not-for-profit, 2-year</td>\n      <td>224.500000</td>\n    </tr>\n    <tr>\n      <td>Private not-for-profit, 4-year or above</td>\n      <td>347.333333</td>\n    </tr>\n    <tr>\n      <td>Public, 2-year</td>\n      <td>2286.000000</td>\n    </tr>\n    <tr>\n      <td>Public, 4-year or above</td>\n      <td>2527.000000</td>\n    </tr>\n    <tr>\n      <td rowspan=\"7\" valign=\"top\">2015</td>\n      <td>Private for-profit, 2-year</td>\n      <td>205.000000</td>\n    </tr>\n    <tr>\n      <td>Private for-profit, 4-year or above</td>\n      <td>163.250000</td>\n    </tr>\n    <tr>\n      <td>Private for-profit, less-than 2-year</td>\n      <td>203.625000</td>\n    </tr>\n    <tr>\n      <td>Private not-for-profit, 2-year</td>\n      <td>212.500000</td>\n    </tr>\n    <tr>\n      <td>Private not-for-profit, 4-year or above</td>\n      <td>409.333333</td>\n    </tr>\n    <tr>\n      <td>Public, 2-year</td>\n      <td>2355.000000</td>\n    </tr>\n    <tr>\n      <td>Public, 4-year or above</td>\n      <td>2676.000000</td>\n    </tr>\n    <tr>\n      <td rowspan=\"7\" valign=\"top\">2016</td>\n      <td>Private for-profit, 2-year</td>\n      <td>205.375000</td>\n    </tr>\n    <tr>\n      <td>Private for-profit, 4-year or above</td>\n      <td>124.666667</td>\n    </tr>\n    <tr>\n      <td>Private for-profit, less-than 2-year</td>\n      <td>194.000000</td>\n    </tr>\n    <tr>\n      <td>Private not-for-profit, 2-year</td>\n      <td>161.000000</td>\n    </tr>\n    <tr>\n      <td>Private not-for-profit, 4-year or above</td>\n      <td>302.000000</td>\n    </tr>\n    <tr>\n      <td>Public, 2-year</td>\n      <td>2431.000000</td>\n    </tr>\n    <tr>\n      <td>Public, 4-year or above</td>\n      <td>2779.500000</td>\n    </tr>\n  </tbody>\n</table>\n</div>"
     },
     "metadata": {},
     "execution_count": 7
    }
   ],
   "source": [
    "df.groupby([\"Year\",\"Sector\"]).mean()"
   ]
  },
  {
   "cell_type": "code",
   "execution_count": null,
   "metadata": {},
   "outputs": [],
   "source": []
  }
 ],
 "metadata": {
  "language_info": {
   "codemirror_mode": {
    "name": "ipython",
    "version": 3
   },
   "file_extension": ".py",
   "mimetype": "text/x-python",
   "name": "python",
   "nbconvert_exporter": "python",
   "pygments_lexer": "ipython3",
   "version": "3.7.4-final"
  },
  "orig_nbformat": 2,
  "kernelspec": {
   "name": "python3",
   "display_name": "Python 3"
  }
 },
 "nbformat": 4,
 "nbformat_minor": 2
}