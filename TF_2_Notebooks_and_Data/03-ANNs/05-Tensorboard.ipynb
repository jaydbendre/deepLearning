{
 "cells": [
  {
   "cell_type": "markdown",
   "metadata": {},
   "source": [
    "<a href=\"https://www.pieriandata.com\"><img src=\"../Pierian_Data_Logo.PNG\"></a>\n",
    "<strong><center>Copyright by Pierian Data Inc.</center></strong> \n",
    "<strong><center>Created by Jose Marcial Portilla.</center></strong>"
   ]
  },
  {
   "cell_type": "markdown",
   "metadata": {},
   "source": [
    "# Tensorboard\n",
    "\n",
    "---\n",
    "---\n",
    "\n",
    "**NOTE: You must watch the corresponding video to understand this lecture. This notebook can't serve as a full guide. Please watch the video BEFORE posting questions to the QA forum.**\n",
    "\n",
    "---\n",
    "---\n",
    "\n",
    "Let's explore the built in data visualization capabilities that come with Tensorboard.\n",
    "\n",
    "Full official tutorial available here: https://www.tensorflow.org/tensorboard/get_started\n",
    "\n",
    "## Data"
   ]
  },
  {
   "cell_type": "code",
   "execution_count": 22,
   "metadata": {},
   "outputs": [],
   "source": [
    "import pandas as pd\n",
    "import numpy as np"
   ]
  },
  {
   "cell_type": "code",
   "execution_count": 23,
   "metadata": {},
   "outputs": [],
   "source": [
    "df = pd.read_csv('../DATA/cancer_classification.csv')"
   ]
  },
  {
   "cell_type": "markdown",
   "metadata": {},
   "source": [
    "### Train Test Split"
   ]
  },
  {
   "cell_type": "code",
   "execution_count": 24,
   "metadata": {},
   "outputs": [],
   "source": [
    "X = df.drop('benign_0__mal_1',axis=1).values\n",
    "y = df['benign_0__mal_1'].values"
   ]
  },
  {
   "cell_type": "code",
   "execution_count": 25,
   "metadata": {},
   "outputs": [],
   "source": [
    "from sklearn.model_selection import train_test_split"
   ]
  },
  {
   "cell_type": "code",
   "execution_count": 26,
   "metadata": {},
   "outputs": [],
   "source": [
    "X_train, X_test, y_train, y_test = train_test_split(X,y,test_size=0.25,random_state=101)"
   ]
  },
  {
   "cell_type": "markdown",
   "metadata": {},
   "source": [
    "\n",
    "### Scaling Data"
   ]
  },
  {
   "cell_type": "code",
   "execution_count": 27,
   "metadata": {},
   "outputs": [],
   "source": [
    "from sklearn.preprocessing import MinMaxScaler"
   ]
  },
  {
   "cell_type": "code",
   "execution_count": 28,
   "metadata": {},
   "outputs": [],
   "source": [
    "scaler = MinMaxScaler()"
   ]
  },
  {
   "cell_type": "code",
   "execution_count": 29,
   "metadata": {},
   "outputs": [
    {
     "output_type": "execute_result",
     "data": {
      "text/plain": "MinMaxScaler(copy=True, feature_range=(0, 1))"
     },
     "metadata": {},
     "execution_count": 29
    }
   ],
   "source": [
    "scaler.fit(X_train)"
   ]
  },
  {
   "cell_type": "code",
   "execution_count": 30,
   "metadata": {},
   "outputs": [],
   "source": [
    "X_train = scaler.transform(X_train)\n",
    "X_test = scaler.transform(X_test)"
   ]
  },
  {
   "cell_type": "markdown",
   "metadata": {},
   "source": [
    "## Creating the Model"
   ]
  },
  {
   "cell_type": "code",
   "execution_count": 31,
   "metadata": {},
   "outputs": [],
   "source": [
    "import tensorflow as tf\n",
    "from tensorflow.keras.models import Sequential\n",
    "from tensorflow.keras.layers import Dense, Activation,Dropout"
   ]
  },
  {
   "cell_type": "code",
   "execution_count": 32,
   "metadata": {},
   "outputs": [],
   "source": [
    "from tensorflow.keras.callbacks import EarlyStopping,TensorBoard"
   ]
  },
  {
   "cell_type": "code",
   "execution_count": 33,
   "metadata": {},
   "outputs": [],
   "source": [
    "early_stop = EarlyStopping(monitor='val_loss', mode='min', verbose=1, patience=25)"
   ]
  },
  {
   "cell_type": "code",
   "execution_count": 34,
   "metadata": {},
   "outputs": [
    {
     "output_type": "execute_result",
     "data": {
      "text/plain": "'c:\\\\Users\\\\2017j\\\\Desktop\\\\Jay-Projects\\\\2020\\\\deepLearning\\\\TF_2_Notebooks_and_Data\\\\03-ANNs'"
     },
     "metadata": {},
     "execution_count": 34
    }
   ],
   "source": [
    "pwd"
   ]
  },
  {
   "cell_type": "markdown",
   "metadata": {},
   "source": [
    "## Creating the Tensorboard Callback\n",
    "\n",
    "TensorBoard is a visualization tool provided with TensorFlow.\n",
    "\n",
    "This callback logs events for TensorBoard, including:\n",
    "* Metrics summary plots\n",
    "* Training graph visualization\n",
    "* Activation histograms\n",
    "* Sampled profiling\n",
    "\n",
    "If you have installed TensorFlow with pip, you should be able\n",
    "to launch TensorBoard from the command line:\n",
    "\n",
    "```sh\n",
    "tensorboard --logdir=path_to_your_logs\n",
    "```\n",
    "\n",
    "You can find more information about TensorBoard\n",
    "[here](https://www.tensorflow.org/tensorboard/).\n",
    "\n",
    "    Arguments:\n",
    "        log_dir: the path of the directory where to save the log files to be\n",
    "          parsed by TensorBoard.\n",
    "        histogram_freq: frequency (in epochs) at which to compute activation and\n",
    "          weight histograms for the layers of the model. If set to 0, histograms\n",
    "          won't be computed. Validation data (or split) must be specified for\n",
    "          histogram visualizations.\n",
    "        write_graph: whether to visualize the graph in TensorBoard. The log file\n",
    "          can become quite large when write_graph is set to True.\n",
    "        write_images: whether to write model weights to visualize as image in\n",
    "          TensorBoard.\n",
    "        update_freq: `'batch'` or `'epoch'` or integer. When using `'batch'`,\n",
    "          writes the losses and metrics to TensorBoard after each batch. The same\n",
    "          applies for `'epoch'`. If using an integer, let's say `1000`, the\n",
    "          callback will write the metrics and losses to TensorBoard every 1000\n",
    "          samples. Note that writing too frequently to TensorBoard can slow down\n",
    "          your training.\n",
    "        profile_batch: Profile the batch to sample compute characteristics. By\n",
    "          default, it will profile the second batch. Set profile_batch=0 to\n",
    "          disable profiling. Must run in TensorFlow eager mode.\n",
    "        embeddings_freq: frequency (in epochs) at which embedding layers will\n",
    "          be visualized. If set to 0, embeddings won't be visualized.\n",
    "       "
   ]
  },
  {
   "cell_type": "code",
   "execution_count": 35,
   "metadata": {},
   "outputs": [],
   "source": [
    "from datetime import datetime"
   ]
  },
  {
   "cell_type": "code",
   "execution_count": 36,
   "metadata": {},
   "outputs": [
    {
     "output_type": "execute_result",
     "data": {
      "text/plain": "'2020-05-22--1217'"
     },
     "metadata": {},
     "execution_count": 36
    }
   ],
   "source": [
    "datetime.now().strftime(\"%Y-%m-%d--%H%M\")"
   ]
  },
  {
   "cell_type": "code",
   "execution_count": 37,
   "metadata": {},
   "outputs": [],
   "source": [
    "# WINDOWS: Use \"logs\\\\fit\"\n",
    "# MACOS/LINUX: Use \"logs\\fit\"\n",
    "\n",
    "log_directory = 'logs\\\\fit'\n",
    "\n",
    "# OPTIONAL: ADD A TIMESTAMP FOR UNIQUE FOLDER\n",
    "# timestamp = datetime.now().strftime(\"%Y-%m-%d--%H%M\")\n",
    "# log_directory = log_directory + '\\\\' + timestamp\n",
    "\n",
    "\n",
    "board = TensorBoard(log_dir=log_directory,histogram_freq=1,\n",
    "    write_graph=True,\n",
    "    write_images=True,\n",
    "    update_freq='epoch',\n",
    "    profile_batch=2,\n",
    "    embeddings_freq=1)"
   ]
  },
  {
   "cell_type": "markdown",
   "metadata": {},
   "source": [
    "Now create the model layers:"
   ]
  },
  {
   "cell_type": "code",
   "execution_count": 38,
   "metadata": {},
   "outputs": [],
   "source": [
    "model = Sequential()\n",
    "model.add(Dense(units=30,activation='relu'))\n",
    "model.add(Dropout(0.5))\n",
    "model.add(Dense(units=15,activation='relu'))\n",
    "model.add(Dropout(0.5))\n",
    "model.add(Dense(units=1,activation='sigmoid'))\n",
    "model.compile(loss='binary_crossentropy', optimizer='adam')"
   ]
  },
  {
   "cell_type": "markdown",
   "metadata": {},
   "source": [
    "## Train the Model"
   ]
  },
  {
   "cell_type": "code",
   "execution_count": 39,
   "metadata": {},
   "outputs": [
    {
     "output_type": "stream",
     "name": "stdout",
     "text": "Train on 426 samples, validate on 143 samples\nEpoch 1/600\n426/426 [==============================] - 2s 5ms/sample - loss: 0.6880 - val_loss: 0.6650\nEpoch 2/600\n426/426 [==============================] - 0s 196us/sample - loss: 0.6517 - val_loss: 0.6428\nEpoch 3/600\n426/426 [==============================] - 0s 203us/sample - loss: 0.6287 - val_loss: 0.6205\nEpoch 4/600\n426/426 [==============================] - 0s 236us/sample - loss: 0.6498 - val_loss: 0.5974\nEpoch 5/600\n426/426 [==============================] - 0s 214us/sample - loss: 0.6049 - val_loss: 0.5762\nEpoch 6/600\n426/426 [==============================] - 0s 233us/sample - loss: 0.6058 - val_loss: 0.5604\nEpoch 7/600\n426/426 [==============================] - 0s 242us/sample - loss: 0.5893 - val_loss: 0.5356\nEpoch 8/600\n426/426 [==============================] - 0s 295us/sample - loss: 0.5697 - val_loss: 0.5088\nEpoch 9/600\n426/426 [==============================] - 0s 359us/sample - loss: 0.5328 - val_loss: 0.4780\nEpoch 10/600\n426/426 [==============================] - 0s 198us/sample - loss: 0.5132 - val_loss: 0.4478\nEpoch 11/600\n426/426 [==============================] - 0s 215us/sample - loss: 0.5024 - val_loss: 0.4197\nEpoch 12/600\n426/426 [==============================] - 0s 230us/sample - loss: 0.4793 - val_loss: 0.3968\nEpoch 13/600\n426/426 [==============================] - 0s 231us/sample - loss: 0.4636 - val_loss: 0.3689\nEpoch 14/600\n426/426 [==============================] - 0s 199us/sample - loss: 0.4203 - val_loss: 0.3449\nEpoch 15/600\n426/426 [==============================] - 0s 204us/sample - loss: 0.4153 - val_loss: 0.3193\nEpoch 16/600\n426/426 [==============================] - 0s 228us/sample - loss: 0.4055 - val_loss: 0.3008\nEpoch 17/600\n426/426 [==============================] - 0s 206us/sample - loss: 0.4072 - val_loss: 0.2871\nEpoch 18/600\n426/426 [==============================] - 0s 250us/sample - loss: 0.3633 - val_loss: 0.2701\nEpoch 19/600\n426/426 [==============================] - 0s 301us/sample - loss: 0.3655 - val_loss: 0.2561\nEpoch 20/600\n426/426 [==============================] - 0s 355us/sample - loss: 0.3850 - val_loss: 0.2525\nEpoch 21/600\n426/426 [==============================] - 0s 251us/sample - loss: 0.3599 - val_loss: 0.2399\nEpoch 22/600\n426/426 [==============================] - 0s 224us/sample - loss: 0.3322 - val_loss: 0.2314\nEpoch 23/600\n426/426 [==============================] - 0s 196us/sample - loss: 0.3155 - val_loss: 0.2233\nEpoch 24/600\n426/426 [==============================] - 0s 181us/sample - loss: 0.2960 - val_loss: 0.2154\nEpoch 25/600\n426/426 [==============================] - 0s 174us/sample - loss: 0.3061 - val_loss: 0.2014\nEpoch 26/600\n426/426 [==============================] - 0s 190us/sample - loss: 0.2994 - val_loss: 0.1940\nEpoch 27/600\n426/426 [==============================] - 0s 207us/sample - loss: 0.2847 - val_loss: 0.1892\nEpoch 28/600\n426/426 [==============================] - 0s 195us/sample - loss: 0.3002 - val_loss: 0.1870\nEpoch 29/600\n426/426 [==============================] - 0s 185us/sample - loss: 0.2700 - val_loss: 0.1839\nEpoch 30/600\n426/426 [==============================] - 0s 202us/sample - loss: 0.2865 - val_loss: 0.1817\nEpoch 31/600\n426/426 [==============================] - 0s 183us/sample - loss: 0.2489 - val_loss: 0.1773\nEpoch 32/600\n426/426 [==============================] - 0s 188us/sample - loss: 0.2663 - val_loss: 0.1716\nEpoch 33/600\n426/426 [==============================] - 0s 223us/sample - loss: 0.2335 - val_loss: 0.1645\nEpoch 34/600\n426/426 [==============================] - 0s 198us/sample - loss: 0.2403 - val_loss: 0.1540\nEpoch 35/600\n426/426 [==============================] - 0s 197us/sample - loss: 0.2292 - val_loss: 0.1541\nEpoch 36/600\n426/426 [==============================] - 0s 227us/sample - loss: 0.2250 - val_loss: 0.1542\nEpoch 37/600\n426/426 [==============================] - 0s 234us/sample - loss: 0.2228 - val_loss: 0.1461\nEpoch 38/600\n426/426 [==============================] - 0s 272us/sample - loss: 0.2152 - val_loss: 0.1465\nEpoch 39/600\n426/426 [==============================] - 0s 233us/sample - loss: 0.2136 - val_loss: 0.1480\nEpoch 40/600\n426/426 [==============================] - 0s 220us/sample - loss: 0.2019 - val_loss: 0.1435\nEpoch 41/600\n426/426 [==============================] - 0s 168us/sample - loss: 0.1997 - val_loss: 0.1377\nEpoch 42/600\n426/426 [==============================] - 0s 177us/sample - loss: 0.1962 - val_loss: 0.1385\nEpoch 43/600\n426/426 [==============================] - 0s 198us/sample - loss: 0.2061 - val_loss: 0.1485\nEpoch 44/600\n426/426 [==============================] - 0s 226us/sample - loss: 0.1841 - val_loss: 0.1310\nEpoch 45/600\n426/426 [==============================] - 0s 223us/sample - loss: 0.1910 - val_loss: 0.1304\nEpoch 46/600\n426/426 [==============================] - 0s 214us/sample - loss: 0.2078 - val_loss: 0.1406\nEpoch 47/600\n426/426 [==============================] - 0s 238us/sample - loss: 0.2054 - val_loss: 0.1417\nEpoch 48/600\n426/426 [==============================] - 0s 192us/sample - loss: 0.1967 - val_loss: 0.1387\nEpoch 49/600\n426/426 [==============================] - 0s 243us/sample - loss: 0.1780 - val_loss: 0.1386\nEpoch 50/600\n426/426 [==============================] - 0s 188us/sample - loss: 0.1815 - val_loss: 0.1241\nEpoch 51/600\n426/426 [==============================] - 0s 193us/sample - loss: 0.1836 - val_loss: 0.1284\nEpoch 52/600\n426/426 [==============================] - 0s 204us/sample - loss: 0.1689 - val_loss: 0.1263\nEpoch 53/600\n426/426 [==============================] - 0s 196us/sample - loss: 0.1632 - val_loss: 0.1219\nEpoch 54/600\n426/426 [==============================] - 0s 226us/sample - loss: 0.1671 - val_loss: 0.1282\nEpoch 55/600\n426/426 [==============================] - 0s 246us/sample - loss: 0.1701 - val_loss: 0.1277\nEpoch 56/600\n426/426 [==============================] - 0s 230us/sample - loss: 0.1733 - val_loss: 0.1163\nEpoch 57/600\n426/426 [==============================] - 0s 247us/sample - loss: 0.1651 - val_loss: 0.1163\nEpoch 58/600\n426/426 [==============================] - 0s 217us/sample - loss: 0.1733 - val_loss: 0.1312\nEpoch 59/600\n426/426 [==============================] - 0s 237us/sample - loss: 0.1322 - val_loss: 0.1267\nEpoch 60/600\n426/426 [==============================] - 0s 253us/sample - loss: 0.1357 - val_loss: 0.1175\nEpoch 61/600\n426/426 [==============================] - 0s 200us/sample - loss: 0.1523 - val_loss: 0.1200\nEpoch 62/600\n426/426 [==============================] - 0s 191us/sample - loss: 0.1355 - val_loss: 0.1208\nEpoch 63/600\n426/426 [==============================] - 0s 204us/sample - loss: 0.1263 - val_loss: 0.1171\nEpoch 64/600\n426/426 [==============================] - 0s 205us/sample - loss: 0.1833 - val_loss: 0.1149\nEpoch 65/600\n426/426 [==============================] - 0s 221us/sample - loss: 0.1232 - val_loss: 0.1118\nEpoch 66/600\n426/426 [==============================] - 0s 193us/sample - loss: 0.1346 - val_loss: 0.1164\nEpoch 67/600\n426/426 [==============================] - 0s 182us/sample - loss: 0.1484 - val_loss: 0.1131\nEpoch 68/600\n426/426 [==============================] - 0s 186us/sample - loss: 0.1509 - val_loss: 0.1186\nEpoch 69/600\n426/426 [==============================] - 0s 179us/sample - loss: 0.1259 - val_loss: 0.1109\nEpoch 70/600\n426/426 [==============================] - 0s 176us/sample - loss: 0.1381 - val_loss: 0.1161\nEpoch 71/600\n426/426 [==============================] - 0s 187us/sample - loss: 0.1373 - val_loss: 0.1147\nEpoch 72/600\n426/426 [==============================] - 0s 308us/sample - loss: 0.1424 - val_loss: 0.1130\nEpoch 73/600\n426/426 [==============================] - 0s 193us/sample - loss: 0.1406 - val_loss: 0.1284\nEpoch 74/600\n426/426 [==============================] - 0s 197us/sample - loss: 0.1432 - val_loss: 0.1160\nEpoch 75/600\n426/426 [==============================] - 0s 207us/sample - loss: 0.0960 - val_loss: 0.1039\nEpoch 76/600\n426/426 [==============================] - 0s 226us/sample - loss: 0.1230 - val_loss: 0.1101\nEpoch 77/600\n426/426 [==============================] - 0s 206us/sample - loss: 0.1348 - val_loss: 0.1204\nEpoch 78/600\n426/426 [==============================] - 0s 318us/sample - loss: 0.1205 - val_loss: 0.1114\nEpoch 79/600\n426/426 [==============================] - 0s 222us/sample - loss: 0.1420 - val_loss: 0.1088\nEpoch 80/600\n426/426 [==============================] - 0s 189us/sample - loss: 0.1209 - val_loss: 0.1104\nEpoch 81/600\n426/426 [==============================] - 0s 221us/sample - loss: 0.0951 - val_loss: 0.1220\nEpoch 82/600\n426/426 [==============================] - 0s 256us/sample - loss: 0.1101 - val_loss: 0.1392\nEpoch 83/600\n426/426 [==============================] - 0s 214us/sample - loss: 0.1313 - val_loss: 0.1048\nEpoch 84/600\n426/426 [==============================] - 0s 195us/sample - loss: 0.1180 - val_loss: 0.1084\nEpoch 85/600\n426/426 [==============================] - 0s 181us/sample - loss: 0.1116 - val_loss: 0.1189\nEpoch 86/600\n426/426 [==============================] - 0s 210us/sample - loss: 0.1226 - val_loss: 0.1142\nEpoch 87/600\n426/426 [==============================] - 0s 217us/sample - loss: 0.1146 - val_loss: 0.1125\nEpoch 88/600\n426/426 [==============================] - 0s 190us/sample - loss: 0.0993 - val_loss: 0.1206\nEpoch 89/600\n426/426 [==============================] - 0s 190us/sample - loss: 0.1116 - val_loss: 0.1254\nEpoch 90/600\n426/426 [==============================] - 0s 175us/sample - loss: 0.1113 - val_loss: 0.1065\nEpoch 91/600\n426/426 [==============================] - 0s 189us/sample - loss: 0.1053 - val_loss: 0.1237\nEpoch 92/600\n426/426 [==============================] - 0s 212us/sample - loss: 0.1396 - val_loss: 0.1177\nEpoch 93/600\n426/426 [==============================] - 0s 243us/sample - loss: 0.1198 - val_loss: 0.1073\nEpoch 94/600\n426/426 [==============================] - 0s 221us/sample - loss: 0.0965 - val_loss: 0.1080\nEpoch 95/600\n426/426 [==============================] - 0s 262us/sample - loss: 0.1029 - val_loss: 0.1136\nEpoch 96/600\n426/426 [==============================] - 0s 200us/sample - loss: 0.1184 - val_loss: 0.1055\nEpoch 97/600\n426/426 [==============================] - 0s 203us/sample - loss: 0.1142 - val_loss: 0.1052\nEpoch 98/600\n426/426 [==============================] - 0s 223us/sample - loss: 0.1168 - val_loss: 0.1128\nEpoch 99/600\n426/426 [==============================] - 0s 225us/sample - loss: 0.0953 - val_loss: 0.1419\nEpoch 100/600\n426/426 [==============================] - 0s 188us/sample - loss: 0.1111 - val_loss: 0.1049\nEpoch 00100: early stopping\n"
    },
    {
     "output_type": "execute_result",
     "data": {
      "text/plain": "<tensorflow.python.keras.callbacks.History at 0x2315201c8c8>"
     },
     "metadata": {},
     "execution_count": 39
    }
   ],
   "source": [
    "model.fit(x=X_train, \n",
    "          y=y_train, \n",
    "          epochs=600,\n",
    "          validation_data=(X_test, y_test), verbose=1,\n",
    "          callbacks=[early_stop,board]\n",
    "          )"
   ]
  },
  {
   "cell_type": "markdown",
   "metadata": {},
   "source": [
    "# Running Tensorboard\n"
   ]
  },
  {
   "cell_type": "markdown",
   "metadata": {},
   "source": [
    "## Running through the Command Line\n",
    "\n",
    "**Watch video to see how to run Tensorboard through a command line call.**"
   ]
  },
  {
   "cell_type": "markdown",
   "metadata": {},
   "source": [
    "Tensorboard will run locally in your browser at [http://localhost:6006/](http://localhost:6006/)\n"
   ]
  },
  {
   "cell_type": "code",
   "execution_count": 40,
   "metadata": {},
   "outputs": [
    {
     "output_type": "stream",
     "name": "stdout",
     "text": "logs\\fit\n"
    }
   ],
   "source": [
    "print(log_directory)"
   ]
  },
  {
   "cell_type": "code",
   "execution_count": 41,
   "metadata": {},
   "outputs": [
    {
     "output_type": "execute_result",
     "data": {
      "text/plain": "'c:\\\\Users\\\\2017j\\\\Desktop\\\\Jay-Projects\\\\2020\\\\deepLearning\\\\TF_2_Notebooks_and_Data\\\\03-ANNs'"
     },
     "metadata": {},
     "execution_count": 41
    }
   ],
   "source": [
    "pwd"
   ]
  },
  {
   "cell_type": "markdown",
   "metadata": {},
   "source": [
    "### Use cd at your command line to change directory to the file path reported back by pwd or your current .py file location.\n",
    "### Then run this code at your command line or terminal"
   ]
  }
 ],
 "metadata": {
  "kernelspec": {
   "display_name": "Python 3",
   "language": "python",
   "name": "python3"
  },
  "language_info": {
   "codemirror_mode": {
    "name": "ipython",
    "version": 3
   },
   "file_extension": ".py",
   "mimetype": "text/x-python",
   "name": "python",
   "nbconvert_exporter": "python",
   "pygments_lexer": "ipython3",
   "version": "3.7.4-final"
  }
 },
 "nbformat": 4,
 "nbformat_minor": 2
}